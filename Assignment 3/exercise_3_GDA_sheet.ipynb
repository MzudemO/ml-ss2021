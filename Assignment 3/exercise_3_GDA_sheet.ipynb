{
 "cells": [
  {
   "cell_type": "markdown",
   "metadata": {
    "collapsed": false
   },
   "source": [
    "# Machine Learning SoSe21 Practice Class\n",
    "\n",
    "Dr. Timo Baumann, Dr. Özge Alaçam, Björn Sygo <br>\n",
    "Email: baumann@informatik.uni-hamburg.de, alacam@informatik.uni-hamburg.de, 6sygo@informatik.uni-hamburg.de\n"
   ]
  },
  {
   "cell_type": "markdown",
   "metadata": {
    "collapsed": false
   },
   "source": [
    "## Exercise 3\n",
    "**Description:** Implement gaussian discriminant analysis on the provided images <br>\n",
    "**Deadline:** Saturday, 15. May 2021, 23:59 <br>\n",
    "**Working together:** You can work in pairs or triples but no larger teams are allowed. <br>\n",
    "&emsp;&emsp;&emsp; &emsp; &emsp; &emsp; &emsp; Please adhere to the honor code discussed in class. <br>\n",
    "&emsp;&emsp;&emsp; &emsp; &emsp; &emsp; &emsp; All members of the team must get involved in understanding and coding the solution."
   ]
  },
  {
   "cell_type": "markdown",
   "metadata": {
    "collapsed": false
   },
   "source": [
    "## Submission: \n",
    "**Linus Geewe, Christoph Brauer, Moritz Lahann**\n",
    "\n",
    "*Also put high-level comments that should be read before looking at your code and results.*"
   ]
  },
  {
   "cell_type": "markdown",
   "metadata": {
    "collapsed": false
   },
   "source": [
    "### Goal\n",
    "\n",
    "1. The goal of this exercise is to build a classifier for real-life data (images).\n",
    "2. You will derive features of the images and then use GDA for classification, i.e., you compute the probability of each image being sampled from one of the classes $j$ (in our case $j \\in \\{\\textrm{no_mask}, \\textrm{mask}\\}$). This probability can be calculated with <br>\n",
    "$p(y=j|x)= \\frac{p(x|y=j)p(y=j)}{p(x|y=j)p(y=j)+p(x|y \\neq j)p(y \\neq j)}$ <br>\n",
    "where <br>\n",
    "$p(x|y=j)=\\frac{1}{(2 \\pi)^{\\frac{n}{2}}|\\Sigma|^{\\frac{1}{2}}}e^{-\\frac{1}{2}(x-\\mu_j)^T \\Sigma^{-1} (x-\\mu_0)}$ <br>\n",
    "and the prior probability $p(y=j)=1-\\Phi$ (depending on the dataset).\n",
    "3. For later classification, you compute for each class the probability that the image is a sample of it and choose the class with the highest probability."
   ]
  },
  {
   "cell_type": "markdown",
   "metadata": {
    "collapsed": false
   },
   "source": [
    "### Load the images\n",
    "\n",
    "**Task 1** (15%): Load the images and represent them so that you can work with them.\n",
    "\n",
    "The dataset contains identically sized images of people with and without facemasks and the goal is to classify if an image contains a person wearing a facemask or not. Note that some images have 3 colors, some also have an alpha channel which you should probably ignore.\n",
    "\n",
    "When the images are loaded, they are represented as a 24x24x3 matrix. One of the 3 layers of the matrix is for the red (R) value, one for the \n",
    "green (G) value and one for the blue (B) value. The image itself is created by taking the values of each of theses 3 matrices at (i,j) to create the \n",
    "pixel of the image at spot (i,j). Each of the values can be in range of 0-255.\n",
    "\n",
    "First, you should load in the images (see zip files). There are two versions of the dataset, a small subsample which contains 40 images for each of the two classes, and the large full dataset (with imbalanced classes). There are multiple libraries for image representation. Try PIL or google around."
   ]
  },
  {
   "cell_type": "code",
   "execution_count": 0,
   "metadata": {
    "collapsed": false
   },
   "outputs": [],
   "source": []
  },
  {
   "cell_type": "markdown",
   "metadata": {
    "collapsed": false
   },
   "source": [
    "### Obtain feature vectors\n",
    "\n",
    "**Task 2** (15%): Build a feature vector and represent each image by its corresponding feature vector.\n",
    "\n",
    "For Gaussian Discriminant Analysis, the images should be represented as feature vectors. A feature vector consists of different features of the image, for example mean or variance of pixel values, of color channels, number of \"blue\" pixels, etc. Be creative. The more discriminative your features, the better your classifier will perform.\n",
    "\n",
    "Your feature vector should contain at least 5 different features. (Note: your code below should also work with more or fewer features.)"
   ]
  },
  {
   "cell_type": "code",
   "execution_count": 0,
   "metadata": {
    "collapsed": false
   },
   "outputs": [],
   "source": []
  },
  {
   "cell_type": "markdown",
   "metadata": {
    "collapsed": false
   },
   "source": [
    "### Initialize your parameters\n",
    "\n",
    "**Task 3** (5%):  Initialize your parameters for the GDA algorithm.\n",
    "\n",
    "For the discriminant analysis, you will need to estimate your parameters $\\Phi, \\mu_0, \\mu_1, \\Sigma$.\n",
    "\n",
    "For this, you will need to initialize them first. You can just initalize them with 0, but you should consider their dimensions."
   ]
  },
  {
   "cell_type": "code",
   "execution_count": 0,
   "metadata": {
    "collapsed": false
   },
   "outputs": [],
   "source": []
  },
  {
   "cell_type": "markdown",
   "metadata": {
    "collapsed": false
   },
   "source": [
    "### Implement Gaussian Discriminant analysis\n",
    "\n",
    "**Task 4** (35%):  Implement the Gaussian Discriminant Analysis algorithm.\n",
    "\n",
    "Now you can use the GDA algorithm to find an estimation for the correct parameters to classify the images later."
   ]
  },
  {
   "cell_type": "code",
   "execution_count": 0,
   "metadata": {
    "collapsed": false
   },
   "outputs": [],
   "source": []
  },
  {
   "cell_type": "markdown",
   "metadata": {
    "collapsed": false
   },
   "source": [
    "### Classify with the Bayes rule\n",
    "**Task 5** (10%): Use the Bayes rule to check how many images were correctly classified.\n",
    "\n",
    "Now that you have estimated your parameters, you can use the Bayes rule to classify the images. You then can evaluate how many of the images were correctly classified and try again with different features if the results weren't good enough."
   ]
  },
  {
   "cell_type": "code",
   "execution_count": 0,
   "metadata": {
    "collapsed": false
   },
   "outputs": [],
   "source": []
  },
  {
   "cell_type": "markdown",
   "metadata": {
    "collapsed": false
   },
   "source": [
    "### Cross-validation\n",
    "\n",
    "**Task 6** (10%): Implement 10-fold cross-validation and report the quality of your results in terms of accuracy and f-score.\n",
    "\n",
    "You have so far trained and tested your classifier on the same data. This does not tell us much about the true performance on unseen data. \n",
    "Instead, you should now randomly split your data into _k_ folds of equal size. you then train your model _k_ times, using all but the _k_'th fold for training and the _k_'th fold for testing."
   ]
  },
  {
   "cell_type": "code",
   "execution_count": 0,
   "metadata": {
    "collapsed": false
   },
   "outputs": [],
   "source": []
  },
  {
   "cell_type": "markdown",
   "metadata": {
    "collapsed": false
   },
   "source": [
    "### Feature importance\n",
    "\n",
    "**Task 7** (10%): Experiment with the features: how well does the classifier perform with individual features, what is the additional value of the second best feature in addition to the best?"
   ]
  },
  {
   "cell_type": "code",
   "execution_count": 0,
   "metadata": {
    "collapsed": false
   },
   "outputs": [],
   "source": []
  },
  {
   "cell_type": "markdown",
   "metadata": {
    "collapsed": false
   },
   "source": [
    "### Report Submission\n",
    "\n",
    "Prepare a report of your solution as a commented Jupyter notebook (using markdown for your results and comments); include figures and results.\n",
    "If you must, you can also upload a PDF document with the report annexed with your Python code.\n",
    "\n",
    "Upload your report file to the Machine Learning Moodle Course page. Please make sure that your submission team corresponds to the team's Moodle group that you're in."
   ]
  },
  {
   "cell_type": "code",
   "execution_count": 0,
   "metadata": {
    "collapsed": false
   },
   "outputs": [],
   "source": []
  }
 ],
 "metadata": {
  "kernelspec": {
   "display_name": "Python 3 (Ubuntu Linux)",
   "language": "python",
   "name": "python3-ubuntu"
  },
  "language_info": {
   "codemirror_mode": {
    "name": "ipython",
    "version": 3
   },
   "file_extension": ".py",
   "mimetype": "text/x-python",
   "name": "python",
   "nbconvert_exporter": "python",
   "pygments_lexer": "ipython3",
   "version": "3.8.2"
  }
 },
 "nbformat": 4,
 "nbformat_minor": 4
}